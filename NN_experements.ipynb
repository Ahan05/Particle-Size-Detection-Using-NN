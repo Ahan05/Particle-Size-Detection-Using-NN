{
 "cells": [
  {
   "cell_type": "code",
   "execution_count": 45,
   "metadata": {
    "ExecuteTime": {
     "end_time": "2018-07-30T00:23:25.045344Z",
     "start_time": "2018-07-30T00:23:24.979413Z"
    },
    "collapsed": true
   },
   "outputs": [],
   "source": [
    "import numpy as np\n",
    "from tqdm import tqdm_notebook\n",
    "import matplotlib.pyplot as plt\n",
    "import pandas as pd\n",
    "\n",
    "\n",
    "import numpy as np\n",
    "from matplotlib import pyplot as plt\n",
    "import sklearn.linear_model as sklm\n",
    "import scipy\n",
    "import sklearn\n",
    "%matplotlib inline"
   ]
  },
  {
   "cell_type": "markdown",
   "metadata": {},
   "source": [
    "# Data process"
   ]
  },
  {
   "cell_type": "markdown",
   "metadata": {},
   "source": [
    "## Getting times series"
   ]
  },
  {
   "cell_type": "code",
   "execution_count": 2,
   "metadata": {
    "ExecuteTime": {
     "end_time": "2018-07-30T00:02:40.379014Z",
     "start_time": "2018-07-30T00:02:40.369155Z"
    },
    "collapsed": true
   },
   "outputs": [],
   "source": [
    "# основные константы\n",
    "kb = 1.38064e-23 # постоянная Больцмана\n",
    "T = 273.15 + 20 # температура в K\n",
    "theta = np.pi/6 # угол рассеяния\n",
    "n = 1.333 # показатель преломления\n",
    "eta = 0.958e-3 # Н * с/м^2 - динамическая вязкость воды\n",
    "l = 633e-9 # Длина волны лазера\n",
    "\n",
    "coeff = 2*(kb * T/(3 * np.pi * eta)) * (4 * np.pi * n / l)**2 * np.sin(theta/2)**2\n",
    "#coeff = 2*kb*T*( 4*np.pi*n/l*np.sin(theta/2) )**2/(6*np.pi*eta)\n",
    "#типы частиц в растворе\n",
    "d = 100e-9 #размер частицы в нм\n",
    "w = np.arange(1,10**4) #спектр\n",
    "\n",
    "def getOneParticleI(w, d1, a=1):\n",
    "    G1 = coeff / d1 #Лоренц, соответствующий размеру d1\n",
    "    y1 = a*G1 / ((2 * np.pi * w)**2 + G1**2)\n",
    "    return y1\n",
    "\n",
    "# функция генерирует Лоренца по частоте и размеру частицы\n",
    "Lorenz = getOneParticleI(w, d,a=1) "
   ]
  },
  {
   "cell_type": "code",
   "execution_count": 40,
   "metadata": {
    "ExecuteTime": {
     "end_time": "2018-07-30T00:19:33.581795Z",
     "start_time": "2018-07-30T00:19:33.568410Z"
    },
    "collapsed": true
   },
   "outputs": [],
   "source": [
    "#исследуемый диапазон размеров частиц\n",
    "# d_min = 1e-9 # 1 нм\n",
    "# d_max = 1e-4 \n",
    "# N = 256 # Число узлов в сетке по \\Gamma\n",
    "\n",
    "#сетка по \\Gamma со сгущением к более крупным размерам\n",
    "def getPowMesh(N, d_min, d_max):\n",
    "    G = np.zeros(N)\n",
    "    #диапазон Лоренцов, соответствующих минимальному и максимальному размерам\n",
    "    G_min = coeff/d_max\n",
    "    G_max = coeff/d_min\n",
    "    #определяем сетку по ним\n",
    "    p = (G_max/G_min)**(1/(N-1))\n",
    "    for j in range(N):\n",
    "        G[j] = G_min * (p**j)\n",
    "    return G\n",
    "\n",
    "#равномерная сетка по \\Gamma\n",
    "def getLinMesh(N, d_min, d_max):\n",
    "    G_min = coeff/d_max\n",
    "    G_max = coeff/d_min\n",
    "    G = np.linspace(G_min, G_max, N)\n",
    "    return G\n",
    "\n",
    "\n",
    "# Матрица коэффициентов A переопределенной системы\n",
    "def defineSystem(G, w):\n",
    "    N = G.size\n",
    "    M = w.size # Число точек по частоте\n",
    "    A = np.zeros((M,N))\n",
    "    for i in range(M):\n",
    "        for j in range(N):\n",
    "            A[i,j] = G[j] / ((2 * np.pi * w[i])**2 + G[j]**2)\n",
    "    return A"
   ]
  },
  {
   "cell_type": "code",
   "execution_count": 41,
   "metadata": {
    "ExecuteTime": {
     "end_time": "2018-07-30T00:19:45.409214Z",
     "start_time": "2018-07-30T00:19:45.376986Z"
    },
    "collapsed": true
   },
   "outputs": [],
   "source": [
    "def LRsolve(A, y, G):\n",
    "    # Ridge regression\n",
    "    clf = sklm.Ridge(alpha = 5e-7)\n",
    "    clf.fit(A, y)\n",
    "    a1 = clf.coef_\n",
    "\n",
    "    fig = plt.figure()\n",
    "    ax = plt.subplot(3,1,1)\n",
    "    line, = plt.plot(1e+9 * coeff/G, a1,'.-')\n",
    "    ax.set_xscale('log')\n",
    "    plt.xlim(1e9*d_min, 1e9*d_max)\n",
    "    \n",
    "    M = A.shape[0]\n",
    "    N = A.shape[1]\n",
    "    \n",
    "    # Non-negative ridge regression\n",
    "    alpha = 1.3e-7\n",
    "    B = np.zeros((M+N, N))\n",
    "    B[0:M,:] = A\n",
    "    B[M::, :] = alpha * np.eye(N)\n",
    "    y_ = np.zeros(M+N)\n",
    "    y_[0:M] = y\n",
    "    a2, rnorm = scipy.optimize.nnls(B,y_)\n",
    "\n",
    "    ax = plt.subplot(3,1,2)\n",
    "    line, = plt.plot(1e+9 * coeff/G, a2,'.-')\n",
    "    ax.set_xscale('log')\n",
    "    plt.xlim(1e9*d_min, 1e9*d_max)\n",
    "\n",
    "    # Lasso regression\n",
    "    clf = sklm.LassoCV()\n",
    "    clf.fit(A, y)\n",
    "    a3 = clf.coef_\n",
    "\n",
    "    # fig = plt.figure()\n",
    "    ax = plt.subplot(3,1,3)\n",
    "    line, = plt.plot(1e+9 * coeff/G, a3,'.-')\n",
    "    ax.set_xscale('log')\n",
    "    plt.xlim(1e9*d_min, 1e9*d_max)\n",
    "    \n",
    "    #print max particle size in nm\n",
    "    i, = np.where( a1==max(a1) )\n",
    "    print('Particle size in a1, nm = ', 1e+9*coeff/G[i])\n",
    "    i, = np.where( a2==max(a2) )\n",
    "    print('Particle size in a2, nm = ', 1e+9*coeff/G[i])\n",
    "    i, = np.where( a3==max(a3) )\n",
    "    print('Particle size in a3, nm = ', 1e+9*coeff/G[i])\n",
    "    "
   ]
  },
  {
   "cell_type": "code",
   "execution_count": 3,
   "metadata": {
    "ExecuteTime": {
     "end_time": "2018-07-30T00:02:41.928279Z",
     "start_time": "2018-07-30T00:02:41.737946Z"
    }
   },
   "outputs": [
    {
     "data": {
      "text/plain": [
       "[<matplotlib.lines.Line2D at 0x11f156240>]"
      ]
     },
     "execution_count": 3,
     "metadata": {},
     "output_type": "execute_result"
    },
    {
     "data": {
      "image/png": "[encoded data removed]",
      "text/plain": [
       "<matplotlib.figure.Figure at 0x11b6bb2e8>"
      ]
     },
     "metadata": {},
     "output_type": "display_data"
    }
   ],
   "source": [
    "plt.plot(w,Lorenz)"
   ]
  },
  {
   "cell_type": "markdown",
   "metadata": {},
   "source": [
    "# NN"
   ]
  },
  {
   "cell_type": "markdown",
   "metadata": {},
   "source": [
    "5 - 350 nm was covered by 2200 diameters"
   ]
  },
  {
   "cell_type": "code",
   "execution_count": 4,
   "metadata": {
    "ExecuteTime": {
     "end_time": "2018-07-30T00:02:43.069362Z",
     "start_time": "2018-07-30T00:02:42.792899Z"
    },
    "collapsed": true
   },
   "outputs": [],
   "source": [
    "from sklearn.preprocessing import normalize"
   ]
  },
  {
   "cell_type": "code",
   "execution_count": 5,
   "metadata": {
    "ExecuteTime": {
     "end_time": "2018-07-30T00:02:56.485012Z",
     "start_time": "2018-07-30T00:02:43.149412Z"
    }
   },
   "outputs": [
    {
     "name": "stderr",
     "output_type": "stream",
     "text": [
      "Using TensorFlow backend.\n"
     ]
    }
   ],
   "source": [
    "from keras.models import Sequential\n",
    "from keras.layers import Dense, Activation, Dropout, InputLayer\n",
    "from keras.wrappers.scikit_learn import KerasRegressor\n",
    "from sklearn.model_selection import cross_val_score\n",
    "from sklearn.preprocessing import StandardScaler\n",
    "from matplotlib import pyplot\n",
    "from keras import backend\n",
    "from sklearn.model_selection import train_test_split\n",
    "from keras import regularizers\n",
    "from keras.callbacks import ModelCheckpoint"
   ]
  },
  {
   "cell_type": "markdown",
   "metadata": {},
   "source": [
    "## Getting dataset for NN"
   ]
  },
  {
   "cell_type": "code",
   "execution_count": 6,
   "metadata": {
    "ExecuteTime": {
     "end_time": "2018-07-30T00:02:56.513212Z",
     "start_time": "2018-07-30T00:02:56.509167Z"
    },
    "collapsed": true
   },
   "outputs": [],
   "source": [
    "# эта функция усредняет лоренц так, что на выходе получаем 100 точек\n",
    "def get_mean_lor(lor):\n",
    "    out = np.zeros(100)\n",
    "    for i in range(lor.shape[0]-100):\n",
    "        out[i//100] = lor[i:i+100].mean()\n",
    "    return out"
   ]
  },
  {
   "cell_type": "code",
   "execution_count": 7,
   "metadata": {
    "ExecuteTime": {
     "end_time": "2018-07-30T00:02:56.541678Z",
     "start_time": "2018-07-30T00:02:56.536409Z"
    },
    "collapsed": true
   },
   "outputs": [],
   "source": [
    "# генерация датасета в диапозоне 10**(-9), 500*10**(-9) \n",
    "# колличество диаметров - 5200\n",
    "def get_dataset_mean(diam_num=5200):\n",
    "    dataset = np.zeros((diam_num, 100))\n",
    "    diam = np.linspace(1*10**(-9), 500*10**(-9), diam_num)\n",
    "    all_w = np.arange(0,10**4+100)\n",
    "    for i in tqdm_notebook(range(diam_num)):\n",
    "        lor = getOneParticleI(all_w, diam[i])\n",
    "        dataset[i,:] = get_mean_lor(lor)\n",
    "    return dataset, diam"
   ]
  },
  {
   "cell_type": "code",
   "execution_count": 8,
   "metadata": {
    "ExecuteTime": {
     "end_time": "2018-07-30T00:02:56.570404Z",
     "start_time": "2018-07-30T00:02:56.566639Z"
    },
    "collapsed": true
   },
   "outputs": [],
   "source": [
    "def get_mesh_lor(N, w_min=1, w_max=10**4):\n",
    "    w = np.zeros(N)\n",
    "    #определяем сетку по ним\n",
    "    p = (w_max/w_min)**(1/(N-1))\n",
    "    for j in range(N):\n",
    "        w[j] = w_min * (p**j)\n",
    "    return w"
   ]
  },
  {
   "cell_type": "code",
   "execution_count": 12,
   "metadata": {
    "ExecuteTime": {
     "end_time": "2018-07-30T00:03:06.673350Z",
     "start_time": "2018-07-30T00:03:06.669285Z"
    },
    "collapsed": true
   },
   "outputs": [],
   "source": [
    "real_w = np.load('new spectr/real_freq.npy')"
   ]
  },
  {
   "cell_type": "code",
   "execution_count": 13,
   "metadata": {
    "ExecuteTime": {
     "end_time": "2018-07-30T00:03:06.846497Z",
     "start_time": "2018-07-30T00:03:06.841341Z"
    },
    "scrolled": true
   },
   "outputs": [
    {
     "data": {
      "text/plain": [
       "array([    30.53435135,     45.80152893,     61.0687027 , ...,\n",
       "        19954.19921875,  19969.46484375,  19984.73242188])"
      ]
     },
     "execution_count": 13,
     "metadata": {},
     "output_type": "execute_result"
    }
   ],
   "source": [
    "real_w"
   ]
  },
  {
   "cell_type": "code",
   "execution_count": 14,
   "metadata": {
    "ExecuteTime": {
     "end_time": "2018-07-30T00:03:08.571000Z",
     "start_time": "2018-07-30T00:03:08.566050Z"
    },
    "collapsed": true
   },
   "outputs": [],
   "source": [
    "# генерация датасета в диапозоне 10**(-9), 350*10**(-9) \n",
    "# колличество диаметров - 5200\n",
    "def get_dataset_mesh(diam_num=5200):\n",
    "    all_w = real_w\n",
    "    dataset = np.zeros((diam_num, all_w.shape[0]))\n",
    "    diam = np.linspace(1e-9, 500e-9, diam_num)\n",
    "    for i in tqdm_notebook(range(diam_num)):\n",
    "        lor = getOneParticleI(all_w, diam[i])\n",
    "        dataset[i,:] = lor\n",
    "    return dataset, diam"
   ]
  },
  {
   "cell_type": "code",
   "execution_count": 15,
   "metadata": {
    "ExecuteTime": {
     "end_time": "2018-07-30T00:03:08.827059Z",
     "start_time": "2018-07-30T00:03:08.824139Z"
    },
    "collapsed": true
   },
   "outputs": [],
   "source": [
    "# функция нормализации одного лоренца\n",
    "def normalize(x):\n",
    "    return (x-min(x))/(max(x)-min(x))"
   ]
  },
  {
   "cell_type": "code",
   "execution_count": 16,
   "metadata": {
    "ExecuteTime": {
     "end_time": "2018-07-30T00:03:10.479094Z",
     "start_time": "2018-07-30T00:03:08.989112Z"
    }
   },
   "outputs": [
    {
     "data": {
      "application/vnd.jupyter.widget-view+json": {
       "model_id": "988b3ba0d1ae4fea897e9b9b04f32f5b"
      }
     },
     "metadata": {},
     "output_type": "display_data"
    },
    {
     "name": "stdout",
     "output_type": "stream",
     "text": [
      "\n"
     ]
    }
   ],
   "source": [
    "X, Y = get_dataset_mesh(diam_num = 5200)\n",
    "Xn = np.apply_along_axis(normalize, 1, X)"
   ]
  },
  {
   "cell_type": "markdown",
   "metadata": {},
   "source": [
    "проверим правильно ли сгенерированы Лоренцы"
   ]
  },
  {
   "cell_type": "code",
   "execution_count": 17,
   "metadata": {
    "ExecuteTime": {
     "end_time": "2018-07-30T00:03:10.660009Z",
     "start_time": "2018-07-30T00:03:10.513823Z"
    }
   },
   "outputs": [
    {
     "data": {
      "text/plain": [
       "[<matplotlib.lines.Line2D at 0x1c334b0eb8>]"
      ]
     },
     "execution_count": 17,
     "metadata": {},
     "output_type": "execute_result"
    },
    {
     "data": {
      "image/png": "[encoded data removed]",
      "text/plain": [
       "<matplotlib.figure.Figure at 0x1c2cc4aa90>"
      ]
     },
     "metadata": {},
     "output_type": "display_data"
    }
   ],
   "source": [
    "# Пример\n",
    "w = real_w#get_mesh_lor(100)\n",
    "plt.plot(w,Xn[200], 'o')"
   ]
  },
  {
   "cell_type": "code",
   "execution_count": 18,
   "metadata": {
    "ExecuteTime": {
     "end_time": "2018-07-30T00:03:11.639983Z",
     "start_time": "2018-07-30T00:03:11.604854Z"
    },
    "collapsed": true
   },
   "outputs": [],
   "source": [
    "ind = [15, 800, 1400, 2005]\n",
    "Y_for_test_graph = Y[ind]*10**9\n",
    "X_for_test_graph = Xn[ind]\n",
    "#X_for_test_graph = X[ind]\n",
    "\n",
    "Y = np.delete(Y, ind, axis=0)\n",
    "Xn = np.delete(Xn, ind, axis=0)\n",
    "#X = np.delete(X, ind, axis=0)"
   ]
  },
  {
   "cell_type": "code",
   "execution_count": 19,
   "metadata": {
    "ExecuteTime": {
     "end_time": "2018-07-30T00:03:12.031802Z",
     "start_time": "2018-07-30T00:03:11.902190Z"
    }
   },
   "outputs": [
    {
     "data": {
      "text/plain": [
       "[<matplotlib.lines.Line2D at 0x1c334e5c50>]"
      ]
     },
     "execution_count": 19,
     "metadata": {},
     "output_type": "execute_result"
    },
    {
     "data": {
      "image/png": "[encoded data removed]",
      "text/plain": [
       "<matplotlib.figure.Figure at 0x1c2cc4ac18>"
      ]
     },
     "metadata": {},
     "output_type": "display_data"
    }
   ],
   "source": [
    "plt.plot(X[0])"
   ]
  },
  {
   "cell_type": "code",
   "execution_count": 20,
   "metadata": {
    "ExecuteTime": {
     "end_time": "2018-07-30T00:03:13.135359Z",
     "start_time": "2018-07-30T00:03:13.101361Z"
    },
    "collapsed": true
   },
   "outputs": [],
   "source": [
    "# делим все на обучение и тест\n",
    "X_train, X_test, y_train, y_test = train_test_split(Xn, Y, test_size=0.33, shuffle=True,random_state=42)"
   ]
  },
  {
   "cell_type": "code",
   "execution_count": 21,
   "metadata": {
    "ExecuteTime": {
     "end_time": "2018-07-30T00:03:13.320158Z",
     "start_time": "2018-07-30T00:03:13.316675Z"
    },
    "collapsed": true
   },
   "outputs": [],
   "source": [
    "# будем предсказывать нанометры \n",
    "y_train = y_train*10**9\n",
    "y_test = y_test*10**9"
   ]
  },
  {
   "cell_type": "code",
   "execution_count": 22,
   "metadata": {
    "ExecuteTime": {
     "end_time": "2018-07-30T00:03:14.808435Z",
     "start_time": "2018-07-30T00:03:14.805649Z"
    },
    "collapsed": true
   },
   "outputs": [],
   "source": [
    "def rmse(y_true, y_pred):\n",
    "    return backend.sqrt(backend.mean(backend.square(y_pred - y_true), axis=-1))"
   ]
  },
  {
   "cell_type": "code",
   "execution_count": 23,
   "metadata": {
    "ExecuteTime": {
     "end_time": "2018-07-30T00:03:26.914161Z",
     "start_time": "2018-07-30T00:03:26.911783Z"
    },
    "collapsed": true
   },
   "outputs": [],
   "source": [
    "#filepath = 'weights/best_weights_one_part.hdf5'\n",
    "filepath = 'weights/best_weights_one_part_real_w.hdf5'"
   ]
  },
  {
   "cell_type": "code",
   "execution_count": 37,
   "metadata": {
    "ExecuteTime": {
     "end_time": "2018-07-30T00:09:27.059141Z",
     "start_time": "2018-07-30T00:09:26.937734Z"
    },
    "collapsed": true
   },
   "outputs": [],
   "source": [
    "model = Sequential()\n",
    "model.add(Dense(60, input_dim=X_train.shape[1]))\n",
    "#model.add(Dropout(0.2))\n",
    "model.add(Activation('relu'))\n",
    "model.add(Dense(45))\n",
    "model.add(Activation('relu'))\n",
    "model.add(Dropout(0.2))\n",
    "model.add(Dense(15))\n",
    "model.add(Dense(1))\n",
    "# Compile model\n",
    "model.compile(loss='mean_squared_error', optimizer='adam', metrics = [rmse])\n",
    "checkpoint = ModelCheckpoint(filepath, monitor='rmse', verbose=1, save_best_only=True, mode='min')"
   ]
  },
  {
   "cell_type": "code",
   "execution_count": 43,
   "metadata": {
    "ExecuteTime": {
     "end_time": "2018-07-30T00:22:09.269716Z",
     "start_time": "2018-07-30T00:20:50.160376Z"
    },
    "scrolled": true
   },
   "outputs": [
    {
     "name": "stdout",
     "output_type": "stream",
     "text": [
      "Train on 3481 samples, validate on 1000 samples\n",
      "Epoch 1/100\n",
      "1s - loss: 579.0672 - rmse: 17.1358 - val_loss: 24.9703 - val_rmse: 3.7321\n",
      "Epoch 2/100\n",
      "1s - loss: 551.7138 - rmse: 16.5855 - val_loss: 20.9337 - val_rmse: 2.7765\n",
      "Epoch 3/100\n",
      "1s - loss: 544.1486 - rmse: 16.3589 - val_loss: 16.8240 - val_rmse: 3.0960\n",
      "Epoch 4/100\n",
      "1s - loss: 506.5688 - rmse: 15.8174 - val_loss: 42.9040 - val_rmse: 4.3437\n",
      "Epoch 5/100\n",
      "1s - loss: 511.6013 - rmse: 15.6101 - val_loss: 13.2384 - val_rmse: 2.1837\n",
      "Epoch 6/100\n",
      "1s - loss: 487.7268 - rmse: 15.3753 - val_loss: 11.1461 - val_rmse: 2.7610\n",
      "Epoch 7/100\n",
      "1s - loss: 448.9310 - rmse: 14.9898 - val_loss: 13.3324 - val_rmse: 2.8146\n",
      "Epoch 8/100\n",
      "1s - loss: 436.6135 - rmse: 14.8150 - val_loss: 91.7023 - val_rmse: 8.0884\n",
      "Epoch 9/100\n",
      "1s - loss: 433.2702 - rmse: 14.4592 - val_loss: 3.5705 - val_rmse: 1.3028\n",
      "Epoch 10/100\n",
      "1s - loss: 432.9941 - rmse: 14.7390 - val_loss: 22.5317 - val_rmse: 4.4100\n",
      "Epoch 11/100\n",
      "1s - loss: 399.7668 - rmse: 14.0162 - val_loss: 61.5284 - val_rmse: 6.4568\n",
      "Epoch 12/100\n",
      "1s - loss: 392.7805 - rmse: 14.0431 - val_loss: 17.7731 - val_rmse: 3.2355\n",
      "Epoch 13/100\n",
      "1s - loss: 377.6138 - rmse: 13.7194 - val_loss: 20.8547 - val_rmse: 4.2172\n",
      "Epoch 14/100\n",
      "1s - loss: 369.3674 - rmse: 13.4096 - val_loss: 50.1328 - val_rmse: 5.2732\n",
      "Epoch 15/100\n",
      "1s - loss: 364.8886 - rmse: 13.4266 - val_loss: 11.4443 - val_rmse: 2.7980\n",
      "Epoch 16/100\n",
      "1s - loss: 388.5471 - rmse: 13.7382 - val_loss: 27.0951 - val_rmse: 4.2384\n",
      "Epoch 17/100\n",
      "1s - loss: 370.4698 - rmse: 13.2789 - val_loss: 15.2264 - val_rmse: 2.9712\n",
      "Epoch 18/100\n",
      "1s - loss: 361.0802 - rmse: 13.1638 - val_loss: 39.0983 - val_rmse: 4.4027\n",
      "Epoch 19/100\n",
      "1s - loss: 353.5036 - rmse: 13.0814 - val_loss: 5.8312 - val_rmse: 1.9976\n",
      "Epoch 20/100\n",
      "1s - loss: 351.9093 - rmse: 12.9961 - val_loss: 0.8272 - val_rmse: 0.6851\n",
      "Epoch 21/100\n",
      "1s - loss: 360.9616 - rmse: 13.0245 - val_loss: 42.3186 - val_rmse: 5.6411\n",
      "Epoch 22/100\n",
      "1s - loss: 338.1786 - rmse: 12.6821 - val_loss: 18.4530 - val_rmse: 3.7825\n",
      "Epoch 23/100\n",
      "1s - loss: 320.0617 - rmse: 12.3920 - val_loss: 35.0032 - val_rmse: 5.1687\n",
      "Epoch 24/100\n",
      "1s - loss: 329.5407 - rmse: 12.4969 - val_loss: 21.8996 - val_rmse: 3.7806\n",
      "Epoch 25/100\n",
      "1s - loss: 339.3304 - rmse: 12.6165 - val_loss: 10.8047 - val_rmse: 2.2749\n",
      "Epoch 26/100\n",
      "1s - loss: 309.9771 - rmse: 12.2198 - val_loss: 10.2827 - val_rmse: 2.6009\n",
      "Epoch 27/100\n",
      "1s - loss: 308.2668 - rmse: 12.1508 - val_loss: 10.5828 - val_rmse: 2.8611\n",
      "Epoch 28/100\n",
      "1s - loss: 320.9086 - rmse: 12.1306 - val_loss: 16.1625 - val_rmse: 2.9194\n",
      "Epoch 29/100\n",
      "1s - loss: 303.1227 - rmse: 11.9371 - val_loss: 4.8221 - val_rmse: 1.6142\n",
      "Epoch 30/100\n",
      "1s - loss: 299.9461 - rmse: 11.8861 - val_loss: 41.7930 - val_rmse: 5.9492\n",
      "Epoch 31/100\n",
      "1s - loss: 313.4450 - rmse: 12.0356 - val_loss: 21.1312 - val_rmse: 4.0222\n",
      "Epoch 32/100\n",
      "1s - loss: 280.0591 - rmse: 11.4239 - val_loss: 26.7729 - val_rmse: 3.8016\n",
      "Epoch 33/100\n",
      "1s - loss: 270.6611 - rmse: 11.2663 - val_loss: 71.1392 - val_rmse: 6.9888\n",
      "Epoch 34/100\n",
      "1s - loss: 279.7994 - rmse: 11.5493 - val_loss: 2.7921 - val_rmse: 1.3983\n",
      "Epoch 35/100\n",
      "1s - loss: 274.0506 - rmse: 11.2359 - val_loss: 1.8908 - val_rmse: 1.1185\n",
      "Epoch 36/100\n",
      "1s - loss: 278.9266 - rmse: 11.4112 - val_loss: 11.7215 - val_rmse: 3.0053\n",
      "Epoch 37/100\n",
      "1s - loss: 279.6573 - rmse: 11.3454 - val_loss: 13.0918 - val_rmse: 3.0793\n",
      "Epoch 38/100\n",
      "1s - loss: 281.1434 - rmse: 11.3547 - val_loss: 4.2322 - val_rmse: 1.5692\n",
      "Epoch 39/100\n",
      "1s - loss: 269.8379 - rmse: 11.1735 - val_loss: 5.9191 - val_rmse: 1.6260\n",
      "Epoch 40/100\n",
      "1s - loss: 253.8868 - rmse: 10.8336 - val_loss: 53.9963 - val_rmse: 5.9677\n",
      "Epoch 41/100\n",
      "1s - loss: 259.4677 - rmse: 10.8296 - val_loss: 10.4072 - val_rmse: 2.8984\n",
      "Epoch 42/100\n",
      "1s - loss: 258.2503 - rmse: 10.8438 - val_loss: 4.9856 - val_rmse: 2.0096\n",
      "Epoch 43/100\n",
      "1s - loss: 239.4558 - rmse: 10.5528 - val_loss: 5.3478 - val_rmse: 1.8510\n",
      "Epoch 44/100\n",
      "1s - loss: 264.0343 - rmse: 10.8548 - val_loss: 6.2058 - val_rmse: 2.1607\n",
      "Epoch 45/100\n",
      "1s - loss: 218.6228 - rmse: 10.1478 - val_loss: 28.9677 - val_rmse: 4.8901\n",
      "Epoch 46/100\n",
      "1s - loss: 229.4282 - rmse: 10.2160 - val_loss: 2.7650 - val_rmse: 1.3384\n",
      "Epoch 47/100\n",
      "1s - loss: 223.4207 - rmse: 10.1249 - val_loss: 15.3978 - val_rmse: 3.1919\n",
      "Epoch 48/100\n",
      "1s - loss: 216.7758 - rmse: 10.0184 - val_loss: 4.5497 - val_rmse: 1.7587\n",
      "Epoch 49/100\n",
      "1s - loss: 227.1780 - rmse: 10.1521 - val_loss: 55.9366 - val_rmse: 6.1429\n",
      "Epoch 50/100\n",
      "1s - loss: 228.8633 - rmse: 10.2929 - val_loss: 22.0725 - val_rmse: 3.7408\n",
      "Epoch 51/100\n",
      "1s - loss: 212.0705 - rmse: 9.9323 - val_loss: 1.5063 - val_rmse: 0.7878\n",
      "Epoch 52/100\n",
      "1s - loss: 225.7174 - rmse: 10.1385 - val_loss: 14.0574 - val_rmse: 3.2790\n",
      "Epoch 53/100\n",
      "1s - loss: 207.0316 - rmse: 9.7884 - val_loss: 1.1986 - val_rmse: 0.7906\n",
      "Epoch 54/100\n",
      "1s - loss: 208.1304 - rmse: 9.8993 - val_loss: 1.1039 - val_rmse: 0.8728\n",
      "Epoch 55/100\n",
      "1s - loss: 204.6727 - rmse: 9.8331 - val_loss: 15.4292 - val_rmse: 2.5762\n",
      "Epoch 56/100\n",
      "1s - loss: 199.3058 - rmse: 9.6087 - val_loss: 13.8283 - val_rmse: 3.3109\n",
      "Epoch 57/100\n",
      "1s - loss: 193.5912 - rmse: 9.4749 - val_loss: 8.3263 - val_rmse: 2.2212\n",
      "Epoch 58/100\n",
      "1s - loss: 186.8087 - rmse: 9.3425 - val_loss: 15.9675 - val_rmse: 2.9750\n",
      "Epoch 59/100\n",
      "1s - loss: 183.4284 - rmse: 9.3364 - val_loss: 6.4019 - val_rmse: 2.1171\n",
      "Epoch 60/100\n",
      "1s - loss: 195.9581 - rmse: 9.6061 - val_loss: 8.8116 - val_rmse: 2.3130\n",
      "Epoch 61/100\n",
      "1s - loss: 183.4863 - rmse: 9.2898 - val_loss: 5.3862 - val_rmse: 1.7678\n",
      "Epoch 62/100\n",
      "1s - loss: 186.7808 - rmse: 9.3481 - val_loss: 5.3409 - val_rmse: 2.0428\n",
      "Epoch 63/100\n",
      "1s - loss: 179.9133 - rmse: 9.1637 - val_loss: 8.4364 - val_rmse: 2.4408\n",
      "Epoch 64/100\n",
      "1s - loss: 176.6388 - rmse: 9.1506 - val_loss: 15.2933 - val_rmse: 3.3067\n",
      "Epoch 65/100\n",
      "1s - loss: 166.4392 - rmse: 8.9193 - val_loss: 5.9662 - val_rmse: 1.7271\n",
      "Epoch 66/100\n",
      "1s - loss: 179.1153 - rmse: 9.2722 - val_loss: 7.1471 - val_rmse: 2.3581\n",
      "Epoch 67/100\n",
      "1s - loss: 166.4896 - rmse: 8.8283 - val_loss: 16.8357 - val_rmse: 3.8455\n",
      "Epoch 68/100\n",
      "1s - loss: 179.7897 - rmse: 9.0422 - val_loss: 16.8471 - val_rmse: 3.0123\n",
      "Epoch 69/100\n",
      "1s - loss: 167.9711 - rmse: 8.9445 - val_loss: 4.9622 - val_rmse: 1.6770\n",
      "Epoch 70/100\n",
      "1s - loss: 156.2377 - rmse: 8.7448 - val_loss: 10.0287 - val_rmse: 2.1237\n",
      "Epoch 71/100\n",
      "1s - loss: 166.6931 - rmse: 8.8360 - val_loss: 21.3674 - val_rmse: 4.1449\n",
      "Epoch 72/100\n",
      "1s - loss: 157.4062 - rmse: 8.7822 - val_loss: 5.5694 - val_rmse: 1.8946\n",
      "Epoch 73/100\n"
     ]
    },
    {
     "ename": "KeyboardInterrupt",
     "evalue": "",
     "output_type": "error",
     "traceback": [
      "\u001b[0;31m---------------------------------------------------------------------------\u001b[0m",
      "\u001b[0;31mKeyboardInterrupt\u001b[0m                         Traceback (most recent call last)",
      "\u001b[0;32m<ipython-input-43-90086d79f393>\u001b[0m in \u001b[0;36m<module>\u001b[0;34m()\u001b[0m\n\u001b[1;32m      3\u001b[0m                     \u001b[0mepochs\u001b[0m\u001b[0;34m=\u001b[0m\u001b[0;36m100\u001b[0m\u001b[0;34m,\u001b[0m\u001b[0;34m\u001b[0m\u001b[0m\n\u001b[1;32m      4\u001b[0m                     \u001b[0mbatch_size\u001b[0m\u001b[0;34m=\u001b[0m\u001b[0;36m10\u001b[0m\u001b[0;34m,\u001b[0m\u001b[0;34m\u001b[0m\u001b[0m\n\u001b[0;32m----> 5\u001b[0;31m                     verbose=2)\n\u001b[0m\u001b[1;32m      6\u001b[0m                    \u001b[0;31m#callbacks = [checkpoint])\u001b[0m\u001b[0;34m\u001b[0m\u001b[0;34m\u001b[0m\u001b[0m\n",
      "\u001b[0;32m/anaconda/lib/python3.6/site-packages/keras/models.py\u001b[0m in \u001b[0;36mfit\u001b[0;34m(self, x, y, batch_size, epochs, verbose, callbacks, validation_split, validation_data, shuffle, class_weight, sample_weight, initial_epoch, **kwargs)\u001b[0m\n\u001b[1;32m    865\u001b[0m                               \u001b[0mclass_weight\u001b[0m\u001b[0;34m=\u001b[0m\u001b[0mclass_weight\u001b[0m\u001b[0;34m,\u001b[0m\u001b[0;34m\u001b[0m\u001b[0m\n\u001b[1;32m    866\u001b[0m                               \u001b[0msample_weight\u001b[0m\u001b[0;34m=\u001b[0m\u001b[0msample_weight\u001b[0m\u001b[0;34m,\u001b[0m\u001b[0;34m\u001b[0m\u001b[0m\n\u001b[0;32m--> 867\u001b[0;31m                               initial_epoch=initial_epoch)\n\u001b[0m\u001b[1;32m    868\u001b[0m \u001b[0;34m\u001b[0m\u001b[0m\n\u001b[1;32m    869\u001b[0m     def evaluate(self, x, y, batch_size=32, verbose=1,\n",
      "\u001b[0;32m/anaconda/lib/python3.6/site-packages/keras/engine/training.py\u001b[0m in \u001b[0;36mfit\u001b[0;34m(self, x, y, batch_size, epochs, verbose, callbacks, validation_split, validation_data, shuffle, class_weight, sample_weight, initial_epoch, steps_per_epoch, validation_steps, **kwargs)\u001b[0m\n\u001b[1;32m   1596\u001b[0m                               \u001b[0minitial_epoch\u001b[0m\u001b[0;34m=\u001b[0m\u001b[0minitial_epoch\u001b[0m\u001b[0;34m,\u001b[0m\u001b[0;34m\u001b[0m\u001b[0m\n\u001b[1;32m   1597\u001b[0m                               \u001b[0msteps_per_epoch\u001b[0m\u001b[0;34m=\u001b[0m\u001b[0msteps_per_epoch\u001b[0m\u001b[0;34m,\u001b[0m\u001b[0;34m\u001b[0m\u001b[0m\n\u001b[0;32m-> 1598\u001b[0;31m                               validation_steps=validation_steps)\n\u001b[0m\u001b[1;32m   1599\u001b[0m \u001b[0;34m\u001b[0m\u001b[0m\n\u001b[1;32m   1600\u001b[0m     def evaluate(self, x, y,\n",
      "\u001b[0;32m/anaconda/lib/python3.6/site-packages/keras/engine/training.py\u001b[0m in \u001b[0;36m_fit_loop\u001b[0;34m(self, f, ins, out_labels, batch_size, epochs, verbose, callbacks, val_f, val_ins, shuffle, callback_metrics, initial_epoch, steps_per_epoch, validation_steps)\u001b[0m\n\u001b[1;32m   1181\u001b[0m                     \u001b[0mbatch_logs\u001b[0m\u001b[0;34m[\u001b[0m\u001b[0;34m'size'\u001b[0m\u001b[0;34m]\u001b[0m \u001b[0;34m=\u001b[0m \u001b[0mlen\u001b[0m\u001b[0;34m(\u001b[0m\u001b[0mbatch_ids\u001b[0m\u001b[0;34m)\u001b[0m\u001b[0;34m\u001b[0m\u001b[0m\n\u001b[1;32m   1182\u001b[0m                     \u001b[0mcallbacks\u001b[0m\u001b[0;34m.\u001b[0m\u001b[0mon_batch_begin\u001b[0m\u001b[0;34m(\u001b[0m\u001b[0mbatch_index\u001b[0m\u001b[0;34m,\u001b[0m \u001b[0mbatch_logs\u001b[0m\u001b[0;34m)\u001b[0m\u001b[0;34m\u001b[0m\u001b[0m\n\u001b[0;32m-> 1183\u001b[0;31m                     \u001b[0mouts\u001b[0m \u001b[0;34m=\u001b[0m \u001b[0mf\u001b[0m\u001b[0;34m(\u001b[0m\u001b[0mins_batch\u001b[0m\u001b[0;34m)\u001b[0m\u001b[0;34m\u001b[0m\u001b[0m\n\u001b[0m\u001b[1;32m   1184\u001b[0m                     \u001b[0;32mif\u001b[0m \u001b[0;32mnot\u001b[0m \u001b[0misinstance\u001b[0m\u001b[0;34m(\u001b[0m\u001b[0mouts\u001b[0m\u001b[0;34m,\u001b[0m \u001b[0mlist\u001b[0m\u001b[0;34m)\u001b[0m\u001b[0;34m:\u001b[0m\u001b[0;34m\u001b[0m\u001b[0m\n\u001b[1;32m   1185\u001b[0m                         \u001b[0mouts\u001b[0m \u001b[0;34m=\u001b[0m \u001b[0;34m[\u001b[0m\u001b[0mouts\u001b[0m\u001b[0;34m]\u001b[0m\u001b[0;34m\u001b[0m\u001b[0m\n",
      "\u001b[0;31mKeyboardInterrupt\u001b[0m: "
     ]
    }
   ],
   "source": [
    "history = model.fit(X_train, y_train, \n",
    "                    validation_data = (X_train[:1000], y_train[:1000]), \n",
    "                    epochs=100, \n",
    "                    batch_size=10, \n",
    "                    verbose=2)\n",
    "                   #callbacks = [checkpoint])"
   ]
  },
  {
   "cell_type": "code",
   "execution_count": 165,
   "metadata": {
    "ExecuteTime": {
     "end_time": "2018-03-29T20:05:56.140584Z",
     "start_time": "2018-03-29T20:05:55.993684Z"
    },
    "collapsed": true
   },
   "outputs": [],
   "source": [
    "#model.load_weights(\"best_weights.hdf5\")"
   ]
  },
  {
   "cell_type": "markdown",
   "metadata": {
    "collapsed": true
   },
   "source": [
    "значение метрик в нанометрах"
   ]
  },
  {
   "cell_type": "code",
   "execution_count": 61,
   "metadata": {
    "ExecuteTime": {
     "end_time": "2018-05-22T04:57:02.861597Z",
     "start_time": "2018-05-22T04:57:02.782261Z"
    }
   },
   "outputs": [
    {
     "name": "stdout",
     "output_type": "stream",
     "text": [
      "['loss', 'rmse']\n"
     ]
    },
    {
     "data": {
      "text/plain": [
       "[3.5583141, 1.3157061]"
      ]
     },
     "execution_count": 61,
     "metadata": {},
     "output_type": "execute_result"
    }
   ],
   "source": [
    "# score on train\n",
    "print(model.metrics_names)\n",
    "model.test_on_batch(X_train, y_train)"
   ]
  },
  {
   "cell_type": "code",
   "execution_count": 62,
   "metadata": {
    "ExecuteTime": {
     "end_time": "2018-05-22T04:57:03.479545Z",
     "start_time": "2018-05-22T04:57:03.466879Z"
    },
    "scrolled": true
   },
   "outputs": [
    {
     "name": "stdout",
     "output_type": "stream",
     "text": [
      "['loss', 'rmse']\n"
     ]
    },
    {
     "data": {
      "text/plain": [
       "[3.8196485, 1.3766744]"
      ]
     },
     "execution_count": 62,
     "metadata": {},
     "output_type": "execute_result"
    }
   ],
   "source": [
    "# score on test\n",
    "print(model.metrics_names)\n",
    "model.test_on_batch(X_test, y_test)"
   ]
  },
  {
   "cell_type": "code",
   "execution_count": 59,
   "metadata": {
    "ExecuteTime": {
     "end_time": "2018-07-30T00:52:40.425103Z",
     "start_time": "2018-07-30T00:52:40.416060Z"
    }
   },
   "outputs": [
    {
     "data": {
      "text/plain": [
       "(1715, 1308)"
      ]
     },
     "execution_count": 59,
     "metadata": {},
     "output_type": "execute_result"
    }
   ],
   "source": [
    "X_test.shape"
   ]
  },
  {
   "cell_type": "code",
   "execution_count": 63,
   "metadata": {
    "ExecuteTime": {
     "end_time": "2018-07-30T00:55:19.450743Z",
     "start_time": "2018-07-30T00:54:24.586786Z"
    }
   },
   "outputs": [
    {
     "data": {
      "application/vnd.jupyter.widget-view+json": {
       "model_id": "4dc2e0fa7041407dabb61d0250e339d0"
      }
     },
     "metadata": {},
     "output_type": "display_data"
    },
    {
     "name": "stdout",
     "output_type": "stream",
     "text": [
      "\n"
     ]
    },
    {
     "name": "stderr",
     "output_type": "stream",
     "text": [
      "Exception in thread Thread-6:\n",
      "Traceback (most recent call last):\n",
      "  File \"/anaconda/lib/python3.6/threading.py\", line 916, in _bootstrap_inner\n",
      "    self.run()\n",
      "  File \"/anaconda/lib/python3.6/site-packages/tqdm/_tqdm.py\", line 144, in run\n",
      "    for instance in self.tqdm_cls._instances:\n",
      "  File \"/anaconda/lib/python3.6/_weakrefset.py\", line 60, in __iter__\n",
      "    for itemref in self.data:\n",
      "RuntimeError: Set changed size during iteration\n",
      "\n"
     ]
    },
    {
     "name": "stdout",
     "output_type": "stream",
     "text": [
      "\n"
     ]
    }
   ],
   "source": [
    "linear_pred=[]\n",
    "for i in tqdm_notebook(X_test):\n",
    "    linear_pred.append(LRsolve_new(A, i, G))"
   ]
  },
  {
   "cell_type": "code",
   "execution_count": 64,
   "metadata": {
    "ExecuteTime": {
     "end_time": "2018-07-30T00:55:27.940161Z",
     "start_time": "2018-07-30T00:55:27.934779Z"
    }
   },
   "outputs": [
    {
     "data": {
      "text/plain": [
       "0.72260387469743093"
      ]
     },
     "execution_count": 64,
     "metadata": {},
     "output_type": "execute_result"
    }
   ],
   "source": [
    "np.sqrt(sklearn.metrics.mean_squared_error(y_test, linear_pred))"
   ]
  },
  {
   "cell_type": "markdown",
   "metadata": {},
   "source": [
    "## Visualization"
   ]
  },
  {
   "cell_type": "code",
   "execution_count": 28,
   "metadata": {
    "ExecuteTime": {
     "end_time": "2018-05-22T04:44:53.721194Z",
     "start_time": "2018-05-22T04:44:53.719040Z"
    },
    "collapsed": true
   },
   "outputs": [],
   "source": [
    "# графики ошибки от количества итераций"
   ]
  },
  {
   "cell_type": "code",
   "execution_count": 26,
   "metadata": {
    "ExecuteTime": {
     "end_time": "2018-07-30T00:05:19.190969Z",
     "start_time": "2018-07-30T00:05:19.033037Z"
    }
   },
   "outputs": [
    {
     "data": {
      "image/png": "[encoded data removed]",
      "text/plain": [
       "<matplotlib.figure.Figure at 0x1c3a51dc88>"
      ]
     },
     "metadata": {},
     "output_type": "display_data"
    }
   ],
   "source": [
    "plt.plot(history.history['rmse'])\n",
    "plt.plot(history.history['val_rmse'])\n",
    "plt.title('model rmse')\n",
    "plt.ylabel('rmse')\n",
    "plt.xlabel('epoch')\n",
    "plt.legend(['train', 'test'], loc='upper left')\n",
    "plt.show()"
   ]
  },
  {
   "cell_type": "code",
   "execution_count": 53,
   "metadata": {
    "ExecuteTime": {
     "end_time": "2018-07-30T00:27:12.489716Z",
     "start_time": "2018-07-30T00:27:07.950657Z"
    }
   },
   "outputs": [
    {
     "name": "stdout",
     "output_type": "stream",
     "text": [
      "Real diam:        [   2.00692441   54.70263512   94.97961146  135.59222927]\n",
      "Predicted NN diam:  [[   8.75821686   57.16544342   95.80245972  136.28692627]]\n"
     ]
    },
    {
     "name": "stderr",
     "output_type": "stream",
     "text": [
      "/anaconda/lib/python3.6/site-packages/sklearn/linear_model/coordinate_descent.py:491: ConvergenceWarning: Objective did not converge. You might want to increase the number of iterations. Fitting data with very small alpha may cause precision problems.\n",
      "  ConvergenceWarning)\n",
      "/anaconda/lib/python3.6/site-packages/sklearn/linear_model/coordinate_descent.py:491: ConvergenceWarning: Objective did not converge. You might want to increase the number of iterations. Fitting data with very small alpha may cause precision problems.\n",
      "  ConvergenceWarning)\n",
      "/anaconda/lib/python3.6/site-packages/sklearn/linear_model/coordinate_descent.py:491: ConvergenceWarning: Objective did not converge. You might want to increase the number of iterations. Fitting data with very small alpha may cause precision problems.\n",
      "  ConvergenceWarning)\n",
      "/anaconda/lib/python3.6/site-packages/sklearn/linear_model/coordinate_descent.py:491: ConvergenceWarning: Objective did not converge. You might want to increase the number of iterations. Fitting data with very small alpha may cause precision problems.\n",
      "  ConvergenceWarning)\n"
     ]
    },
    {
     "name": "stdout",
     "output_type": "stream",
     "text": [
      "Predicted linear diam:  [1.8639655275464093, 54.476746837004939, 97.81889864295438, 130.26393458414577]\n"
     ]
    }
   ],
   "source": [
    "# рассмотрим частицы с такими диаметрам\n",
    "print(\"Real diam:       \",Y_for_test_graph)\n",
    "#X_for_test_graph\n",
    "print(\"Predicted NN diam: \",model.predict(X_for_test_graph).T)\n",
    "print(\"Predicted linear diam: \", [LRsolve_new(A, x, G) for x in X_for_test_graph])"
   ]
  },
  {
   "cell_type": "code",
   "execution_count": 51,
   "metadata": {
    "ExecuteTime": {
     "end_time": "2018-07-30T00:25:59.893779Z",
     "start_time": "2018-07-30T00:25:58.110881Z"
    }
   },
   "outputs": [
    {
     "name": "stderr",
     "output_type": "stream",
     "text": [
      "/anaconda/lib/python3.6/site-packages/sklearn/linear_model/coordinate_descent.py:491: ConvergenceWarning: Objective did not converge. You might want to increase the number of iterations. Fitting data with very small alpha may cause precision problems.\n",
      "  ConvergenceWarning)\n"
     ]
    },
    {
     "data": {
      "text/plain": [
       "54.476746837004939"
      ]
     },
     "execution_count": 51,
     "metadata": {},
     "output_type": "execute_result"
    }
   ],
   "source": [
    "d_max = 500*10**(-9)\n",
    "d_min = 10**(-9)\n",
    "G = getPowMesh(int(500), d_min,d_max ) #задем сетку\n",
    "A = defineSystem(G, real_w)\n",
    "LRsolve_new(A, X_for_test_graph[1], G)"
   ]
  },
  {
   "cell_type": "code",
   "execution_count": null,
   "metadata": {
    "collapsed": true
   },
   "outputs": [],
   "source": []
  },
  {
   "cell_type": "code",
   "execution_count": 31,
   "metadata": {
    "ExecuteTime": {
     "end_time": "2018-05-22T04:45:03.341341Z",
     "start_time": "2018-05-22T04:45:03.339136Z"
    },
    "collapsed": true
   },
   "outputs": [],
   "source": [
    "# синие точки - реальные значения, красные - предсказанные"
   ]
  },
  {
   "cell_type": "code",
   "execution_count": 32,
   "metadata": {
    "ExecuteTime": {
     "end_time": "2018-05-22T04:45:03.802731Z",
     "start_time": "2018-05-22T04:45:03.666918Z"
    },
    "scrolled": true
   },
   "outputs": [
    {
     "data": {
      "text/plain": [
       "[<matplotlib.lines.Line2D at 0x1c375b7128>]"
      ]
     },
     "execution_count": 32,
     "metadata": {},
     "output_type": "execute_result"
    },
    {
     "data": {
      "image/png": "[encoded data removed]",
      "text/plain": [
       "<matplotlib.figure.Figure at 0x1c375b7c88>"
      ]
     },
     "metadata": {},
     "output_type": "display_data"
    }
   ],
   "source": [
    "plt.plot(Y_for_test_graph, Y_for_test_graph, 'bo')\n",
    "plt.plot(Y_for_test_graph, model.predict(X_for_test_graph), 'ro')"
   ]
  },
  {
   "cell_type": "code",
   "execution_count": 62,
   "metadata": {
    "ExecuteTime": {
     "end_time": "2018-07-30T00:54:20.382739Z",
     "start_time": "2018-07-30T00:54:20.375179Z"
    },
    "collapsed": true
   },
   "outputs": [],
   "source": [
    "def LRsolve_new(A, y, G):\n",
    "    M = A.shape[0]\n",
    "    N = A.shape[1]\n",
    "    \n",
    "    # Non-negative ridge regression\n",
    "    alpha = 1.3e-7\n",
    "    B = np.zeros((M+N, N))\n",
    "    B[0:M,:] = A\n",
    "    B[M::, :] = alpha * np.eye(N)\n",
    "    y_ = np.zeros(M+N)\n",
    "    y_[0:M] = y\n",
    "    a2, rnorm = scipy.optimize.nnls(B,y_)\n",
    "    i, = np.where( a2==max(a2) )\n",
    "    return 1e+9*coeff/G[i]\n",
    "    "
   ]
  },
  {
   "cell_type": "markdown",
   "metadata": {},
   "source": [
    "## best model"
   ]
  },
  {
   "cell_type": "code",
   "execution_count": 30,
   "metadata": {
    "ExecuteTime": {
     "end_time": "2018-04-12T18:15:01.303083Z",
     "start_time": "2018-04-12T18:15:01.207342Z"
    },
    "collapsed": true
   },
   "outputs": [],
   "source": [
    "model = Sequential()\n",
    "model.add(Dense(60, input_dim=X_train.shape[1]))\n",
    "#model.add(Dropout(0.2))\n",
    "model.add(Activation('relu'))\n",
    "model.add(Dense(45))\n",
    "model.add(Activation('relu'))\n",
    "# model.add(Dropout(0.5))\n",
    "model.add(Dense(15))\n",
    "model.add(Dense(1))\n",
    "# Compile model\n",
    "model.compile(loss='mean_squared_error', optimizer='adam', metrics = [rmse])\n",
    "checkpoint = ModelCheckpoint(filepath, monitor='rmse', verbose=1, save_best_only=True, mode='min')"
   ]
  },
  {
   "cell_type": "code",
   "execution_count": 23,
   "metadata": {
    "ExecuteTime": {
     "end_time": "2018-04-12T18:12:20.937978Z",
     "start_time": "2018-04-12T18:12:20.918126Z"
    }
   },
   "outputs": [
    {
     "name": "stdout",
     "output_type": "stream",
     "text": [
      "['loss', 'rmse']\n"
     ]
    },
    {
     "data": {
      "text/plain": [
       "[0.094575427, 0.27415904]"
      ]
     },
     "execution_count": 23,
     "metadata": {},
     "output_type": "execute_result"
    }
   ],
   "source": [
    "# score on train\n",
    "print(model.metrics_names)\n",
    "model.test_on_batch(X_train, y_train)"
   ]
  },
  {
   "cell_type": "code",
   "execution_count": 24,
   "metadata": {
    "ExecuteTime": {
     "end_time": "2018-04-12T18:12:22.347559Z",
     "start_time": "2018-04-12T18:12:22.341310Z"
    }
   },
   "outputs": [
    {
     "name": "stdout",
     "output_type": "stream",
     "text": [
      "['loss', 'rmse']\n"
     ]
    },
    {
     "data": {
      "text/plain": [
       "[0.093630373, 0.27233303]"
      ]
     },
     "execution_count": 24,
     "metadata": {},
     "output_type": "execute_result"
    }
   ],
   "source": [
    "# score on test\n",
    "print(model.metrics_names)\n",
    "model.test_on_batch(X_test, y_test)"
   ]
  },
  {
   "cell_type": "markdown",
   "metadata": {},
   "source": [
    "# TODO"
   ]
  },
  {
   "cell_type": "markdown",
   "metadata": {},
   "source": [
    "* Сделать сетку по частоте неравномерную +\n",
    "* попробовать поднять сигнал взять фурье и опустить \n",
    "(проблема в том, что при взятии обратного преобразования от лоренца не получается сигнал) + не помогло\n",
    "* почитать про быстрое преобразование фурье, как правильно его делать +-"
   ]
  },
  {
   "cell_type": "markdown",
   "metadata": {},
   "source": [
    "* многочастичный случай\n",
    "* модельный сигнал \n",
    "* реальные данные\n",
    "* хорошее разрешение малых размеров в одночастичном случае +"
   ]
  }
 ],
 "metadata": {
  "kernelspec": {
   "display_name": "Python 3",
   "language": "python",
   "name": "python3"
  },
  "language_info": {
   "codemirror_mode": {
    "name": "ipython",
    "version": 3
   },
   "file_extension": ".py",
   "mimetype": "text/x-python",
   "name": "python",
   "nbconvert_exporter": "python",
   "pygments_lexer": "ipython3",
   "version": "3.6.3"
  },
  "toc": {
   "nav_menu": {
    "height": "228px",
    "width": "242px"
   },
   "number_sections": true,
   "sideBar": true,
   "skip_h1_title": false,
   "title_cell": "Table of Contents",
   "title_sidebar": "Contents",
   "toc_cell": false,
   "toc_position": {
    "height": "calc(100% - 180px)",
    "left": "10px",
    "top": "150px",
    "width": "165px"
   },
   "toc_section_display": true,
   "toc_window_display": true
  },
  "varInspector": {
   "cols": {
    "lenName": 16,
    "lenType": 16,
    "lenVar": 40
   },
   "kernels_config": {
    "python": {
     "delete_cmd_postfix": "",
     "delete_cmd_prefix": "del ",
     "library": "var_list.py",
     "varRefreshCmd": "print(var_dic_list())"
    },
    "r": {
     "delete_cmd_postfix": ") ",
     "delete_cmd_prefix": "rm(",
     "library": "var_list.r",
     "varRefreshCmd": "cat(var_dic_list()) "
    }
   },
   "types_to_exclude": [
    "module",
    "function",
    "builtin_function_or_method",
    "instance",
    "_Feature"
   ],
   "window_display": false
  }
 },
 "nbformat": 4,
 "nbformat_minor": 2
}
